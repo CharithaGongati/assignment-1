{
  "nbformat": 4,
  "nbformat_minor": 0,
  "metadata": {
    "colab": {
      "provenance": [],
      "authorship_tag": "ABX9TyPD5gDi5rgzm5yVHgJh4Tod",
      "include_colab_link": true
    },
    "kernelspec": {
      "name": "python3",
      "display_name": "Python 3"
    },
    "language_info": {
      "name": "python"
    }
  },
  "cells": [
    {
      "cell_type": "markdown",
      "metadata": {
        "id": "view-in-github",
        "colab_type": "text"
      },
      "source": [
        "<a href=\"https://colab.research.google.com/github/CharithaGongati/assignment-1/blob/main/ASSIGNMENT1.ipynb\" target=\"_parent\"><img src=\"https://colab.research.google.com/assets/colab-badge.svg\" alt=\"Open In Colab\"/></a>"
      ]
    },
    {
      "cell_type": "code",
      "execution_count": null,
      "metadata": {
        "colab": {
          "base_uri": "https://localhost:8080/"
        },
        "id": "Vzg2XP9d-r57",
        "outputId": "977ea5b7-89f1-4c23-d4f0-aaf6d44eaf9d"
      },
      "outputs": [
        {
          "output_type": "stream",
          "name": "stdout",
          "text": [
            "Enter a string: Charitha\n",
            "Reversed string: ahtahC\n"
          ]
        }
      ],
      "source": [
        "# PROGRAM 1: Deleting 2 characters and Reversing a String\n",
        "# Input the string as a list of characters\n",
        "input_string = list(input(\"Enter a string: \"))\n",
        "\n",
        "# Delete at least 2 characters\n",
        "if len(input_string) >= 2:\n",
        "    del input_string[3:5]  # Deleting characters at index 1 and 2\n",
        "\n",
        "# Reverse the resultant string\n",
        "input_string.reverse()\n",
        "\n",
        "# Print the reversed string\n",
        "print(\"Reversed string:\", ''.join(input_string))"
      ]
    },
    {
      "cell_type": "code",
      "source": [
        "# Input two numbers from the user\n",
        "num1 = float(input(\"Enter the first number: \"))\n",
        "num2 = float(input(\"Enter the second number: \"))\n",
        "# Perform arithmetic operations\n",
        "addition = num1 + num2\n",
        "subtraction = num1 - num2\n",
        "multiplication = num1 * num2\n",
        "\n",
        "# Avoid division by zero\n",
        "if num2 != 0:\n",
        "    division = num1 / num2\n",
        "else:\n",
        "    division = \"Cannot divide by zero\"\n",
        "\n",
        "# Print the results\n",
        "print(\"Addition:\", addition)\n",
        "print(\"Subtraction:\", subtraction)\n",
        "print(\"Multiplication:\", multiplication)\n",
        "print(\"Division:\", division)"
      ],
      "metadata": {
        "colab": {
          "base_uri": "https://localhost:8080/"
        },
        "id": "mHuWuZZu-68P",
        "outputId": "f0014524-6637-4981-f674-d6c88e0b1b40"
      },
      "execution_count": null,
      "outputs": [
        {
          "output_type": "stream",
          "name": "stdout",
          "text": [
            "Enter the first number: 4\n",
            "Enter the second number: 2\n",
            "Addition: 6.0\n",
            "Subtraction: 2.0\n",
            "Multiplication: 8.0\n",
            "Division: 2.0\n"
          ]
        }
      ]
    },
    {
      "cell_type": "code",
      "source": [
        "# PROGRAM 2: Replacing 'python' with 'pythons' in a Sentence\n",
        "def replace_python(sentence):\n",
        "    new_sentence = sentence.replace('python', 'pythons')\n",
        "    return new_sentence\n",
        "\n",
        "# Input a sentence\n",
        "input_sentence = input(\"Enter a sentence: \")\n",
        "\n",
        "# Replace 'python' with 'pythons'\n",
        "result = replace_python(input_sentence)\n",
        "\n",
        "# Print the updated sentence\n",
        "print(\"Modified sentence:\", result)"
      ],
      "metadata": {
        "colab": {
          "base_uri": "https://localhost:8080/"
        },
        "id": "V-4WccBR_Hfv",
        "outputId": "26787ab1-15cc-4682-f75e-d0000b0a13c0"
      },
      "execution_count": null,
      "outputs": [
        {
          "output_type": "stream",
          "name": "stdout",
          "text": [
            "Enter a sentence: i like python\n",
            "Modified sentence: i like pythons\n"
          ]
        }
      ]
    },
    {
      "cell_type": "code",
      "source": [
        "# Cell 3: Calculating Letter Grade\n",
        "def calculate_grade(score):\n",
        "    if score >= 90:\n",
        "        return 'A'\n",
        "    elif score >= 80:\n",
        "        return 'B'\n",
        "    elif score >= 70:\n",
        "        return 'C'\n",
        "    elif score >= 60:\n",
        "        return 'D'\n",
        "    else:\n",
        "        return 'F'\n",
        "\n",
        "# Input the class score\n",
        "class_score = int(input(\"Enter the class score: \"))\n",
        "\n",
        "# Calculate and print the corresponding letter grade\n",
        "letter_grade = calculate_grade(class_score)\n",
        "print(\"Letter Grade:\", letter_grade)"
      ],
      "metadata": {
        "colab": {
          "base_uri": "https://localhost:8080/"
        },
        "id": "nUkc8AxH_RuV",
        "outputId": "2cbb8a83-face-49b0-ead0-b764629dcf3a"
      },
      "execution_count": null,
      "outputs": [
        {
          "output_type": "stream",
          "name": "stdout",
          "text": [
            "Enter the class score: 99\n",
            "Letter Grade: A\n"
          ]
        }
      ]
    }
  ]
}